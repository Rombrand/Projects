{
 "cells": [
  {
   "cell_type": "markdown",
   "metadata": {},
   "source": [
    "# Self-Driving Car Engineer Nanodegree\n",
    "\n",
    "## Deep Learning\n",
    "\n",
    "## Project: Build a Traffic Sign Recognition Classifier\n",
    "\n",
    "In this notebook, a template is provided for you to implement your functionality in stages, which is required to successfully complete this project. If additional code is required that cannot be included in the notebook, be sure that the Python code is successfully imported and included in your submission if necessary. \n",
    "\n",
    "> **Note**: Once you have completed all of the code implementations, you need to finalize your work by exporting the iPython Notebook as an HTML document. Before exporting the notebook to html, all of the code cells need to have been run so that reviewers can see the final implementation and output. You can then export the notebook by using the menu above and navigating to  \\n\",\n",
    "    \"**File -> Download as -> HTML (.html)**. Include the finished document along with this notebook as your submission. \n",
    "\n",
    "In addition to implementing code, there is a writeup to complete. The writeup should be completed in a separate file, which can be either a markdown file or a pdf document. There is a [write up template](https://github.com/udacity/CarND-Traffic-Sign-Classifier-Project/blob/master/writeup_template.md) that can be used to guide the writing process. Completing the code template and writeup template will cover all of the [rubric points](https://review.udacity.com/#!/rubrics/481/view) for this project.\n",
    "\n",
    "The [rubric](https://review.udacity.com/#!/rubrics/481/view) contains \"Stand Out Suggestions\" for enhancing the project beyond the minimum requirements. The stand out suggestions are optional. If you decide to pursue the \"stand out suggestions\", you can include the code in this Ipython notebook and also discuss the results in the writeup file.\n",
    "\n",
    "\n",
    ">**Note:** Code and Markdown cells can be executed using the **Shift + Enter** keyboard shortcut. In addition, Markdown cells can be edited by typically double-clicking the cell to enter edit mode."
   ]
  },
  {
   "cell_type": "markdown",
   "metadata": {},
   "source": [
    "## Helpers:"
   ]
  },
  {
   "cell_type": "code",
   "execution_count": 2,
   "metadata": {},
   "outputs": [],
   "source": [
    "import matplotlib.pyplot as plt\n",
    "import matplotlib.image as mpimg\n",
    "import numpy as np\n",
    "import tensorflow as tf\n",
    "from sklearn import preprocessing\n",
    "from scipy import ndimage #rotation\n",
    "from sklearn.utils import shuffle\n",
    "from collections import Counter\n",
    "from operator import itemgetter\n",
    "import random\n",
    "import csv\n",
    "\n",
    "\n",
    "# Visualizations will be shown in the notebook.\n",
    "%matplotlib inline\n",
    "\n",
    "EPOCHS =  6 #10 #50\n",
    "BATCH_SIZE = 512\n",
    "rate = 0.001\n",
    "\n",
    "channels = 3\n",
    "rgb = True\n",
    "drop = True # activate/deactivate dropout method\n",
    "\n",
    "\n",
    "def rgb_to_gray(img):\n",
    "        grayImage = np.zeros(img.shape)\n",
    "        R = np.array(img[:, :, 0])\n",
    "        G = np.array(img[:, :, 1])\n",
    "        B = np.array(img[:, :, 2])\n",
    "\n",
    "        R = (R *.299)\n",
    "        G = (G *.587)\n",
    "        B = (B *.114)\n",
    "\n",
    "        Avg = (R+G+B)\n",
    "\n",
    "\n",
    "        return Avg\n",
    "    \n",
    "def rotate_L(img):\n",
    "    rot_l = ndimage.rotate(img, 10, cval=0.1, reshape = False)\n",
    "    return rot_l\n",
    "\n",
    "def rotate_R(img):\n",
    "    rot_r = ndimage.rotate(img, -10, cval=0.1, reshape = False)\n",
    "    return rot_r\n",
    "\n",
    "def norm_labels(X_train, y_train):\n",
    "    x, y = zip(*sorted(zip(X_train, y_train), key=itemgetter(1)))\n",
    "\n",
    "    label = list(set(y))\n",
    "    amount_labels = 180\n",
    "    occurences = Counter(y)\n",
    "\n",
    "    new_images = []\n",
    "    new_labels = []\n",
    "\n",
    "    for i in label:\n",
    "        start = y.index(i)\n",
    "        stop = start + amount_labels\n",
    "        #new_images = \n",
    "        new_images.extend(x[start:stop])\n",
    "        #new_images = np.append(new_images, x[start:stop])\n",
    "        new_labels = np.append(new_labels, y[start:stop]) \n",
    "        #plt.figure(i)\n",
    "        #print(y[start])\n",
    "        #plt.imshow(new_images[180*i])\n",
    "\n",
    "    X_train = np.asarray(new_images)\n",
    "    y_train = np.asarray(new_labels)\n",
    "\n",
    "    return X_train, y_train"
   ]
  },
  {
   "cell_type": "markdown",
   "metadata": {},
   "source": [
    "---\n",
    "## Step 0: Load The Data"
   ]
  },
  {
   "cell_type": "code",
   "execution_count": 3,
   "metadata": {},
   "outputs": [],
   "source": [
    "# Load pickled data\n",
    "import pickle\n",
    "\n",
    "# TODO: Fill this in based on where you saved the training and testing data\n",
    "\n",
    "training_file = \"../traffic-signs-data/train.p\"\n",
    "validation_file = \"../traffic-signs-data/valid.p\"\n",
    "testing_file = \"../traffic-signs-data/test.p\"\n",
    "\n",
    "with open(training_file, mode='rb') as f:\n",
    "    train = pickle.load(f)\n",
    "with open(validation_file, mode='rb') as f:\n",
    "    valid = pickle.load(f)\n",
    "with open(testing_file, mode='rb') as f:\n",
    "    test = pickle.load(f)\n",
    "    \n",
    "X_train, y_train = train['features'], train['labels']\n",
    "X_valid, y_valid = valid['features'], valid['labels']\n",
    "X_test, y_test = test['features'], test['labels']"
   ]
  },
  {
   "cell_type": "code",
   "execution_count": 4,
   "metadata": {
    "scrolled": true
   },
   "outputs": [
    {
     "name": "stdout",
     "output_type": "stream",
     "text": [
      "(34799, 32, 32, 3)\n",
      "(4410, 32, 32, 3)\n",
      "(12630, 32, 32, 3)\n",
      "Image Shape:  (32, 32, 3)\n",
      "[41 41 41 ..., 25 25 25]\n",
      "Counter({2: 2010, 1: 1980, 13: 1920, 12: 1890, 38: 1860, 10: 1800, 4: 1770, 5: 1650, 25: 1350, 9: 1320, 7: 1290, 3: 1260, 8: 1260, 11: 1170, 18: 1080, 35: 1080, 17: 990, 14: 690, 31: 690, 33: 599, 15: 540, 26: 540, 28: 480, 23: 450, 30: 390, 6: 360, 16: 360, 34: 360, 22: 330, 36: 330, 20: 300, 40: 300, 21: 270, 39: 270, 24: 240, 29: 240, 27: 210, 32: 210, 41: 210, 42: 210, 0: 180, 19: 180, 37: 180})\n"
     ]
    },
    {
     "data": {
      "image/png": "[encoded data removed]",
      "text/plain": [
       "<matplotlib.figure.Figure at 0x11b7adda0>"
      ]
     },
     "metadata": {},
     "output_type": "display_data"
    }
   ],
   "source": [
    "print(train['features'].shape)\n",
    "print(valid['features'].shape)\n",
    "print(test['features'].shape)\n",
    "\n",
    "print(\"Image Shape: \", X_train[0].shape)\n",
    "\n",
    "\n",
    "plt.hist(y_train, 42)\n",
    "plt.xlabel('Labels')\n",
    "plt.ylabel('Occurences')\n",
    "\n",
    "print(y_train)\n",
    "\n",
    "print(Counter(y_train ))\n"
   ]
  },
  {
   "cell_type": "markdown",
   "metadata": {},
   "source": [
    "---\n",
    "\n",
    "## Step 1: Dataset Summary & Exploration\n",
    "\n",
    "The pickled data is a dictionary with 4 key/value pairs:\n",
    "\n",
    "- `'features'` is a 4D array containing raw pixel data of the traffic sign images, (num examples, width, height, channels).\n",
    "- `'labels'` is a 1D array containing the label/class id of the traffic sign. The file `signnames.csv` contains id -> name mappings for each id.\n",
    "- `'sizes'` is a list containing tuples, (width, height) representing the original width and height the image.\n",
    "- `'coords'` is a list containing tuples, (x1, y1, x2, y2) representing coordinates of a bounding box around the sign in the image. **THESE COORDINATES ASSUME THE ORIGINAL IMAGE. THE PICKLED DATA CONTAINS RESIZED VERSIONS (32 by 32) OF THESE IMAGES**\n",
    "\n",
    "Complete the basic data summary below. Use python, numpy and/or pandas methods to calculate the data summary rather than hard coding the results. For example, the [pandas shape method](http://pandas.pydata.org/pandas-docs/stable/generated/pandas.DataFrame.shape.html) might be useful for calculating some of the summary results. "
   ]
  },
  {
   "cell_type": "markdown",
   "metadata": {},
   "source": [
    "### Provide a Basic Summary of the Data Set Using Python, Numpy and/or Pandas"
   ]
  },
  {
   "cell_type": "code",
   "execution_count": 5,
   "metadata": {},
   "outputs": [
    {
     "name": "stdout",
     "output_type": "stream",
     "text": [
      "Number of training examples = 34799\n",
      "Number of testing examples = 12630\n",
      "Image data shape = (32, 32)\n",
      "Number of classes = 43\n"
     ]
    }
   ],
   "source": [
    "### Replace each question mark with the appropriate value. \n",
    "### Use python, pandas or numpy methods rather than hard coding the results\n",
    "\n",
    "# TODO: Number of training examples\n",
    "n_train = train['features'].shape[0]\n",
    "\n",
    "# TODO: Number of validation examples\n",
    "n_validation = valid['features'].shape[0]\n",
    "\n",
    "# TODO: Number of testing examples.\n",
    "n_test = test['features'].shape[0]\n",
    "\n",
    "# TODO: What's the shape of an traffic sign image?\n",
    "image_shape = (train['features'].shape[1],(train['features'].shape[2]))\n",
    "\n",
    "# TODO: How many unique classes/labels there are in the dataset.\n",
    "n_classes = len(np.unique(train['labels']))\n",
    "\n",
    "\n",
    "print(\"Number of training examples =\", n_train)\n",
    "print(\"Number of testing examples =\", n_test)\n",
    "print(\"Image data shape =\", image_shape)\n",
    "print(\"Number of classes =\", n_classes)\n"
   ]
  },
  {
   "cell_type": "markdown",
   "metadata": {},
   "source": [
    "### Include an exploratory visualization of the dataset"
   ]
  },
  {
   "cell_type": "markdown",
   "metadata": {},
   "source": [
    "Visualize the German Traffic Signs Dataset using the pickled file(s). This is open ended, suggestions include: plotting traffic sign images, plotting the count of each sign, etc. \n",
    "\n",
    "The [Matplotlib](http://matplotlib.org/) [examples](http://matplotlib.org/examples/index.html) and [gallery](http://matplotlib.org/gallery.html) pages are a great resource for doing visualizations in Python.\n",
    "\n",
    "**NOTE:** It's recommended you start with something simple first. If you wish to do more, come back to it after you've completed the rest of the sections. It can be interesting to look at the distribution of classes in the training, validation and test set. Is the distribution the same? Are there more examples of some classes than others?"
   ]
  },
  {
   "cell_type": "code",
   "execution_count": 11,
   "metadata": {},
   "outputs": [
    {
     "name": "stdout",
     "output_type": "stream",
     "text": [
      "6\n",
      "shape_gray:  (32, 32)\n"
     ]
    },
    {
     "data": {
      "image/png": "[encoded data removed]",
      "text/plain": [
       "<matplotlib.figure.Figure at 0x137e8c710>"
      ]
     },
     "metadata": {},
     "output_type": "display_data"
    },
    {
     "data": {
      "image/png": "[encoded data removed]",
      "text/plain": [
       "<matplotlib.figure.Figure at 0x137fc67f0>"
      ]
     },
     "metadata": {},
     "output_type": "display_data"
    }
   ],
   "source": [
    "### Data exploration visualization code goes here.\n",
    "### Feel free to use as many code cells as needed.\n",
    "\n",
    "X_train, y_train = shuffle(X_train, y_train)\n",
    "\n",
    "\n",
    "\n",
    "index = random.randint(0, len(X_train))\n",
    "print(y_train[index])\n",
    "\n",
    "\n",
    "im1 = X_train[index].squeeze()\n",
    "im2 = X_train[1].squeeze()\n",
    "rot_l = X_train[2].squeeze()\n",
    "rot_r = X_train[3].squeeze()\n",
    "\n",
    "gray = rgb_to_gray(im1)\n",
    "print(\"shape_gray: \", gray.shape)\n",
    "\n",
    "fig = plt.figure(figsize = (5,5))\n",
    "plt.subplot(221)\n",
    "plt.imshow(im1, cmap=\"gray\")\n",
    "plt.subplot(222)\n",
    "plt.imshow(gray, cmap=\"gray\")\n",
    "plt.show()\n",
    "\n",
    "plt.figure(figsize=(10, 6))\n",
    "for i in range(1, 11):\n",
    "    plt.subplot(2, 5, i)\n",
    "    plt.imshow(X_train[i].squeeze(), cmap='gray') \n",
    "    plt.title(i)\n",
    "    plt.axis('off')\n",
    "plt.show()"
   ]
  },
  {
   "cell_type": "markdown",
   "metadata": {},
   "source": [
    "----\n",
    "\n",
    "## Step 2: Design and Test a Model Architecture\n",
    "\n",
    "Design and implement a deep learning model that learns to recognize traffic signs. Train and test your model on the [German Traffic Sign Dataset](http://benchmark.ini.rub.de/?section=gtsrb&subsection=dataset).\n",
    "\n",
    "The LeNet-5 implementation shown in the [classroom](https://classroom.udacity.com/nanodegrees/nd013/parts/fbf77062-5703-404e-b60c-95b78b2f3f9e/modules/6df7ae49-c61c-4bb2-a23e-6527e69209ec/lessons/601ae704-1035-4287-8b11-e2c2716217ad/concepts/d4aca031-508f-4e0b-b493-e7b706120f81) at the end of the CNN lesson is a solid starting point. You'll have to change the number of classes and possibly the preprocessing, but aside from that it's plug and play! \n",
    "\n",
    "With the LeNet-5 solution from the lecture, you should expect a validation set accuracy of about 0.89. To meet specifications, the validation set accuracy will need to be at least 0.93. It is possible to get an even higher accuracy, but 0.93 is the minimum for a successful project submission. \n",
    "\n",
    "There are various aspects to consider when thinking about this problem:\n",
    "\n",
    "- Neural network architecture (is the network over or underfitting?)\n",
    "- Play around preprocessing techniques (normalization, rgb to grayscale, etc)\n",
    "- Number of examples per label (some have more than others).\n",
    "- Generate fake data.\n",
    "\n",
    "Here is an example of a [published baseline model on this problem](http://yann.lecun.com/exdb/publis/pdf/sermanet-ijcnn-11.pdf). It's not required to be familiar with the approach used in the paper but, it's good practice to try to read papers like these."
   ]
  },
  {
   "cell_type": "markdown",
   "metadata": {},
   "source": [
    "### Pre-process the Data Set (normalization, grayscale, etc.)"
   ]
  },
  {
   "cell_type": "markdown",
   "metadata": {},
   "source": [
    "Minimally, the image data should be normalized so that the data has mean zero and equal variance. For image data, `(pixel - 128)/ 128` is a quick way to approximately normalize the data and can be used in this project. \n",
    "\n",
    "Other pre-processing steps are optional. You can try different techniques to see if it improves performance. \n",
    "\n",
    "Use the code cell (or multiple code cells, if necessary) to implement the first step of your project."
   ]
  },
  {
   "cell_type": "code",
   "execution_count": null,
   "metadata": {},
   "outputs": [],
   "source": [
    "### Preprocess the data here. It is required to normalize the data. Other preprocessing steps could include \n",
    "### converting to grayscale, etc.\n",
    "### Feel free to use as many code cells as needed.\n"
   ]
  },
  {
   "cell_type": "markdown",
   "metadata": {},
   "source": [
    "### Additional Preprocessing"
   ]
  },
  {
   "cell_type": "code",
   "execution_count": 14,
   "metadata": {},
   "outputs": [
    {
     "name": "stdout",
     "output_type": "stream",
     "text": [
      "SHAPE_R:  (104397, 32, 32, 3)\n"
     ]
    },
    {
     "data": {
      "image/png": "[encoded data removed]",
      "text/plain": [
       "<matplotlib.figure.Figure at 0x11d586be0>"
      ]
     },
     "metadata": {},
     "output_type": "display_data"
    },
    {
     "data": {
      "image/png": "[encoded data removed]",
      "text/plain": [
       "<matplotlib.figure.Figure at 0x11d81b550>"
      ]
     },
     "metadata": {},
     "output_type": "display_data"
    },
    {
     "name": "stdout",
     "output_type": "stream",
     "text": [
      "Labels:  17 17 17\n",
      "SHAPE X_train:  (104397, 32, 32, 3)\n",
      "SHAPE_single_image:  (32, 32, 3)\n",
      "channels:  3\n"
     ]
    },
    {
     "data": {
      "text/plain": [
       "'\\n\\n#----------- IMSHOW ---------------------------\\nimg = X_train[0+3].squeeze()\\nrot_l = X_train[n_train+3].squeeze()\\nrot_r = X_train[2*n_train+3].squeeze()\\n\\nplt.figure(figsize=(8,5))\\nplt.subplot(131)\\nplt.imshow(img)\\nplt.subplot(132)\\nplt.imshow(rot_l, cmap=\"gray\")\\nplt.subplot(133)\\nplt.imshow(rot_r, cmap=\"gray\")\\nplt.show()\\n\\n'"
      ]
     },
     "execution_count": 14,
     "metadata": {},
     "output_type": "execute_result"
    }
   ],
   "source": [
    "XR_train = np.copy(X_train)\n",
    "XL_train = np.copy(X_train)\n",
    "\n",
    "#--------- Rotate -----------------------------\n",
    "\n",
    "img = X_train[78].squeeze()\n",
    "plt.figure(figsize=(8,5))\n",
    "plt.imshow(img)\n",
    "\n",
    "#XR_train[::3] = np.asarray(list(map(rotate_R, XR_train[::3,...])))\n",
    "#XR_train[1::3] = np.asarray(list(map(rotate_L, XR_train[1::3,...])))\n",
    "\n",
    "XR_train = np.asarray(list(map(rotate_R, XR_train)))\n",
    "XL_train = np.asarray(list(map(rotate_L, XL_train)))\n",
    "\n",
    "#XR_train = list(map(rotate_R, XR_train))\n",
    "#XL_train = list(map(rotate_L, XL_train))\n",
    "\n",
    "X_train = np.vstack((X_train, XL_train))\n",
    "\n",
    "X_train = np.vstack((X_train, XR_train))\n",
    "print(\"SHAPE_R: \", X_train.shape)\n",
    "\n",
    "#np.concatenate((X_train,XR_train))\n",
    "#np.stack((A,B))\n",
    "\n",
    "\n",
    "\n",
    "\n",
    "img = X_train[index].squeeze()\n",
    "rot_l = X_train[n_train+index].squeeze()\n",
    "rot_r = X_train[2*n_train+index].squeeze()\n",
    "\n",
    "plt.figure(figsize=(8,5))\n",
    "plt.subplot(131)\n",
    "plt.imshow(img)\n",
    "plt.subplot(132)\n",
    "plt.imshow(rot_l)\n",
    "plt.subplot(133)\n",
    "plt.imshow(rot_r)\n",
    "plt.show()\n",
    "#----------------------------------------------------------------------\n",
    "#----------------------------------------------------------------------\n",
    "#----------------------------------------------------------------------\n",
    "\n",
    "y_train = np.concatenate((y_train,y_train,y_train), axis=0)\n",
    "\n",
    "\n",
    "\n",
    "\n",
    "\n",
    "#X_data.append(np.array(image))\n",
    "#X_train.append(XR_train[:,...])\n",
    "#X_train = np.column_stack([X_train, XR_train, XL_train], axis=0)\n",
    "\n",
    "#X_train = np.append([X_train, XR_train, XL_train])\n",
    "\n",
    "print(\"Labels: \", y_train[0*n_train], y_train[1*n_train], y_train[2*n_train])\n",
    "\n",
    "print(\"SHAPE X_train: \", X_train.shape)\n",
    "print(\"SHAPE_single_image: \", X_train[0].shape)\n",
    "\n",
    "#--------- Grayscale ------------------------- \n",
    "if not rgb == True:   \n",
    "    channels = 1\n",
    "\n",
    "    a = list(map(rgb_to_gray, X_train))\n",
    "    X_train = np.asarray(a)\n",
    "    a = list(map(rgb_to_gray, X_valid))\n",
    "    X_valid = np.asarray(a)\n",
    "    a = list(map(rgb_to_gray, X_test))\n",
    "    X_test = np.asarray(a)\n",
    "\n",
    "    X_train = X_train[..., np.newaxis]\n",
    "    X_valid = X_valid[..., np.newaxis]\n",
    "    X_test = X_test[..., np.newaxis]\n",
    "\n",
    "\n",
    "print(\"channels: \", channels)    \n",
    "\"\"\"\n",
    "\n",
    "#----------- IMSHOW ---------------------------\n",
    "img = X_train[0+3].squeeze()\n",
    "rot_l = X_train[n_train+3].squeeze()\n",
    "rot_r = X_train[2*n_train+3].squeeze()\n",
    "\n",
    "plt.figure(figsize=(8,5))\n",
    "plt.subplot(131)\n",
    "plt.imshow(img)\n",
    "plt.subplot(132)\n",
    "plt.imshow(rot_l, cmap=\"gray\")\n",
    "plt.subplot(133)\n",
    "plt.imshow(rot_r, cmap=\"gray\")\n",
    "plt.show()\n",
    "\n",
    "\"\"\""
   ]
  },
  {
   "cell_type": "markdown",
   "metadata": {},
   "source": [
    "#### Convert RGB to BW and normalize:"
   ]
  },
  {
   "cell_type": "code",
   "execution_count": 17,
   "metadata": {},
   "outputs": [
    {
     "name": "stdout",
     "output_type": "stream",
     "text": [
      "------------------------------------------------------\n",
      "Shape before norm: (32, 32, 3)\n",
      "\n",
      "------------------------------------------------------\n",
      "Updated Image Shape: (32, 32, 3)\n"
     ]
    }
   ],
   "source": [
    "\n",
    "#-------- Normalize --------------------------\n",
    "\n",
    "\n",
    "\n",
    "print(\"------------------------------------------------------\")\n",
    "print(\"Shape before norm: {}\".format(X_train[0].shape))\n",
    "\n",
    "#Since we use normal ReLU as activation function it is better to use normalization 0-1. \n",
    "X_train = np.float64(X_train) / 255\n",
    "X_valid = X_valid.astype('float') / 255\n",
    "X_test = X_test.astype('float') / 255\n",
    "\n",
    "\n",
    "#print(X_train[5].squeeze())\n",
    "#plt.imshow(X_train[5])\n",
    "\n",
    "print()\n",
    "#X_train = X_train[..., np.newaxis]\n",
    "#X_valid = X_valid[..., np.newaxis]\n",
    "#X_test = X_test[..., np.newaxis]\n",
    "\n",
    "\n",
    "\n",
    "\n",
    "print(\"------------------------------------------------------\")\n",
    "print(\"Updated Image Shape: {}\".format(X_train[0].shape))\n",
    "\n",
    "\n",
    "\n"
   ]
  },
  {
   "cell_type": "code",
   "execution_count": null,
   "metadata": {
    "collapsed": true
   },
   "outputs": [],
   "source": []
  },
  {
   "cell_type": "markdown",
   "metadata": {},
   "source": [
    "#### Shuffle training data:"
   ]
  },
  {
   "cell_type": "code",
   "execution_count": 18,
   "metadata": {},
   "outputs": [],
   "source": [
    "X_train, y_train = shuffle(X_train, y_train)"
   ]
  },
  {
   "cell_type": "markdown",
   "metadata": {},
   "source": [
    "# Model Architecture"
   ]
  },
  {
   "cell_type": "code",
   "execution_count": 16,
   "metadata": {},
   "outputs": [],
   "source": [
    "### Define your architecture here.\n",
    "### Feel free to use as many code cells as needed.\n",
    "\n",
    "\n",
    "from tensorflow.contrib.layers import flatten\n",
    "\n",
    "def LeNet(x):    \n",
    "    # Arguments used for tf.truncated_normal, randomly defines variables for the weights and biases for each layer\n",
    "    mu = 0\n",
    "    sigma = 0.1\n",
    "    input_channels_conv1 = channels\n",
    "    k_1 = 8 #32  #6   # numbuer of filters (feature maps) input channels for conv2\n",
    "    k_2 = 16 #64  #16  \n",
    "    dropout_rate = 0.5\n",
    "    filter_size = 5*5\n",
    "    in_fc1 = filter_size*k_2\n",
    "    out_fc1 = 256\n",
    "    out_sofmax = 1024\n",
    "    \n",
    "    print('initial shape:', np.shape(x))\n",
    "    # SOLUTION: Layer 1: Convolutional. Input = 32x32x1. Output = 28x28x6.\n",
    "    conv1_W = tf.Variable(tf.truncated_normal(shape=(5, 5, channels, k_1), mean = mu, stddev = sigma))\n",
    "    conv1_b = tf.Variable(tf.zeros(k_1))\n",
    "    conv1   = tf.nn.conv2d(x, conv1_W, strides=[1, 1, 1, 1], padding='VALID') + conv1_b\n",
    "    print('Outputshape Conv1:', np.shape(conv1))\n",
    "\n",
    "\n",
    "    # SOLUTION: Activation.\n",
    "    conv1 = tf.nn.relu(conv1)\n",
    "\n",
    "    \n",
    "    # SOLUTION: Pooling. Input = 28x28x6. Output = 14x14x6.\n",
    "    conv1 = tf.nn.max_pool(conv1, ksize=[1, 2, 2, 1], strides=[1, 2, 2, 1], padding='VALID')\n",
    "\n",
    "    # SOLUTION: Layer 2: Convolutional. Output = 10x10x16.\n",
    "    conv2_W = tf.Variable(tf.truncated_normal(shape=(5, 5, k_1, k_2), mean = mu, stddev = sigma))\n",
    "    conv2_b = tf.Variable(tf.zeros(k_2))\n",
    "    conv2   = tf.nn.conv2d(conv1, conv2_W, strides=[1, 1, 1, 1], padding='VALID') + conv2_b\n",
    "    \n",
    "    # SOLUTION: Activation.\n",
    "    conv2 = tf.nn.relu(conv2)\n",
    "\n",
    "    \n",
    "    # SOLUTION: Pooling. Input = 10x10x16. Output = 5x5x16.    \n",
    "    conv2 = tf.nn.max_pool(conv2, ksize=[1, 2, 2, 1], strides=[1, 2, 2, 1], padding='VALID')\n",
    "\n",
    "    # SOLUTION: Flatten. Input = 5x5x16. Output = 400 / (5*5*32 = 800) / (5*5*64 = 1600)\n",
    "    fc0   = flatten(conv2)\n",
    "    \n",
    "    # SOLUTION: Layer 3: Fully Connected. Input = 400./ (1600) Output = 120./ (256)\n",
    "    fc1_W = tf.Variable(tf.truncated_normal(shape=(in_fc1, out_fc1), mean = mu, stddev = sigma))\n",
    "    fc1_b = tf.Variable(tf.zeros(out_fc1))\n",
    "    fc1   = tf.matmul(fc0, fc1_W) + fc1_b\n",
    "    \n",
    "    # SOLUTION: Activation.\n",
    "    fc1    = tf.nn.relu(fc1)\n",
    "\n",
    "    # SOLUTION: Layer 4: Fully Connected. Input = 120. Output = 84. (256/64)\n",
    "    fc2_W  = tf.Variable(tf.truncated_normal(shape=(out_fc1, 64), mean = mu, stddev = sigma))\n",
    "    fc2_b  = tf.Variable(tf.zeros(64))\n",
    "    fc2    = tf.matmul(fc1, fc2_W) + fc2_b\n",
    "    \n",
    "    # SOLUTION: Activation.\n",
    "    fc2    = tf.nn.relu(fc2)\n",
    "\n",
    "    if drop:\n",
    "        fc2 = tf.layers.dropout(fc2, dropout_rate, training=training)\n",
    "    \n",
    "    # SOLUTION: Layer 5: Fully Connected. Input = 84. Output = 10.\n",
    "    fc3_W  = tf.Variable(tf.truncated_normal(shape=(64, n_classes), mean = mu, stddev = sigma))\n",
    "    fc3_b  = tf.Variable(tf.zeros(n_classes))\n",
    "    logits = tf.matmul(fc2, fc3_W) + fc3_b\n",
    "    \n",
    "    return logits"
   ]
  },
  {
   "cell_type": "markdown",
   "metadata": {},
   "source": [
    "\n",
    "# Train, Validate and Test the Model"
   ]
  },
  {
   "cell_type": "markdown",
   "metadata": {},
   "source": [
    "A validation set can be used to assess how well the model is performing. A low accuracy on the training and validation\n",
    "sets imply underfitting. A high accuracy on the training set but low accuracy on the validation set implies overfitting."
   ]
  },
  {
   "cell_type": "markdown",
   "metadata": {},
   "source": [
    "#### Features and Labels:"
   ]
  },
  {
   "cell_type": "code",
   "execution_count": null,
   "metadata": {},
   "outputs": [],
   "source": [
    "x = tf.placeholder(tf.float32, (None, 32, 32, channels))\n",
    "y = tf.placeholder(tf.int32, (None))\n",
    "training = tf.placeholder_with_default(False, shape=(), name = 'training')\n",
    "one_hot_y = tf.one_hot(y, n_classes)"
   ]
  },
  {
   "cell_type": "markdown",
   "metadata": {},
   "source": [
    "## Training pipeline:"
   ]
  },
  {
   "cell_type": "code",
   "execution_count": null,
   "metadata": {},
   "outputs": [],
   "source": [
    "logits = LeNet(x)\n",
    "cross_entropy = tf.nn.softmax_cross_entropy_with_logits(labels=one_hot_y, logits=logits)\n",
    "loss_operation = tf.reduce_mean(cross_entropy)\n",
    "optimizer = tf.train.AdamOptimizer(learning_rate = rate)\n",
    "training_operation = optimizer.minimize(loss_operation)"
   ]
  },
  {
   "cell_type": "markdown",
   "metadata": {},
   "source": [
    "## Evaluation process"
   ]
  },
  {
   "cell_type": "code",
   "execution_count": null,
   "metadata": {},
   "outputs": [],
   "source": [
    "correct_prediction = tf.equal(tf.argmax(logits, 1), tf.argmax(one_hot_y, 1))\n",
    "accuracy_operation = tf.reduce_mean(tf.cast(correct_prediction, tf.float32))\n",
    "saver = tf.train.Saver()\n",
    "\n",
    "def evaluate(X_data, y_data):\n",
    "    num_examples = len(X_data)\n",
    "    total_accuracy = 0\n",
    "    sess = tf.get_default_session()\n",
    "    for offset in range(0, num_examples, BATCH_SIZE):\n",
    "        batch_x, batch_y = X_data[offset:offset+BATCH_SIZE], y_data[offset:offset+BATCH_SIZE]\n",
    "        accuracy = sess.run(accuracy_operation, feed_dict={x: batch_x, y: batch_y})\n",
    "        total_accuracy += (accuracy * len(batch_x))\n",
    "    return total_accuracy / num_examples"
   ]
  },
  {
   "cell_type": "markdown",
   "metadata": {},
   "source": [
    "# ----------------\n",
    "## Training:"
   ]
  },
  {
   "cell_type": "code",
   "execution_count": null,
   "metadata": {},
   "outputs": [],
   "source": [
    "### Calculate and report the accuracy on the training and validation set.\n",
    "### Once a final model architecture is selected, \n",
    "### the accuracy on the test set should be calculated and reported as well.\n",
    "\n",
    "with tf.Session() as sess:\n",
    "    print(X_train.shape)\n",
    "    sess.run(tf.global_variables_initializer())\n",
    "    num_examples = len(X_train)\n",
    "    \n",
    "    print(\"Training...\")\n",
    "    print()\n",
    "    for i in range(EPOCHS):\n",
    "        X_train, y_train = shuffle(X_train, y_train)\n",
    "        for offset in range(0, num_examples, BATCH_SIZE):\n",
    "            end = offset + BATCH_SIZE\n",
    "            batch_x, batch_y = X_train[offset:end], y_train[offset:end]\n",
    "            sess.run(training_operation, feed_dict={x: batch_x, y: batch_y, training: True})\n",
    "            \n",
    "        validation_accuracy = evaluate(X_valid, y_valid)\n",
    "        print(\"EPOCH {} ...\".format(i+1))\n",
    "        print(\"Validation Accuracy = {:.3f}\".format(validation_accuracy))\n",
    "\n",
    "\n",
    "        print()\n",
    "        \n",
    "    saver.save(sess, './lenet_RD_1632')\n",
    "    print(\"Model saved\")"
   ]
  },
  {
   "cell_type": "markdown",
   "metadata": {},
   "source": [
    "## Evaluate the Model"
   ]
  },
  {
   "cell_type": "code",
   "execution_count": null,
   "metadata": {},
   "outputs": [],
   "source": [
    "with tf.Session() as sess:\n",
    "    saver.restore(sess, tf.train.latest_checkpoint('.'))\n",
    "\n",
    "    test_accuracy = evaluate(X_test, y_test)\n",
    "    print(\"Test Accuracy = {:.3f}\".format(test_accuracy))"
   ]
  },
  {
   "cell_type": "markdown",
   "metadata": {},
   "source": [
    "---\n",
    "\n",
    "## Step 3: Test a Model on New Images\n",
    "\n",
    "To give yourself more insight into how your model is working, download at least five pictures of German traffic signs from the web and use your model to predict the traffic sign type.\n",
    "\n",
    "You may find `signnames.csv` useful as it contains mappings from the class id (integer) to the actual sign name."
   ]
  },
  {
   "cell_type": "code",
   "execution_count": 4,
   "metadata": {},
   "outputs": [
    {
     "data": {
      "text/plain": [
       "['8.jpg',\n",
       " '11.jpeg',\n",
       " '6.jpeg',\n",
       " '16.jpg',\n",
       " 'vvp.jpg',\n",
       " '4.jpeg',\n",
       " '5.jpeg',\n",
       " '9.jpeg',\n",
       " '2.jpeg',\n",
       " '3.jpeg']"
      ]
     },
     "execution_count": 4,
     "metadata": {},
     "output_type": "execute_result"
    }
   ],
   "source": [
    "import os\n",
    "os.listdir(\"../Signs/\")"
   ]
  },
  {
   "cell_type": "markdown",
   "metadata": {},
   "source": [
    "### Load and Output the Images"
   ]
  },
  {
   "cell_type": "code",
   "execution_count": 5,
   "metadata": {},
   "outputs": [
    {
     "name": "stdout",
     "output_type": "stream",
     "text": [
      "{'SignName': 'Speed limit (20km/h)', 'ClassId': '0'}\n",
      "{'SignName': 'Speed limit (30km/h)', 'ClassId': '1'}\n",
      "{'SignName': 'Speed limit (50km/h)', 'ClassId': '2'}\n",
      "{'SignName': 'Speed limit (60km/h)', 'ClassId': '3'}\n",
      "{'SignName': 'Speed limit (70km/h)', 'ClassId': '4'}\n",
      "{'SignName': 'Speed limit (80km/h)', 'ClassId': '5'}\n",
      "{'SignName': 'End of speed limit (80km/h)', 'ClassId': '6'}\n",
      "{'SignName': 'Speed limit (100km/h)', 'ClassId': '7'}\n",
      "{'SignName': 'Speed limit (120km/h)', 'ClassId': '8'}\n",
      "{'SignName': 'No passing', 'ClassId': '9'}\n",
      "{'SignName': 'No passing for vehicles over 3.5 metric tons', 'ClassId': '10'}\n",
      "{'SignName': 'Right-of-way at the next intersection', 'ClassId': '11'}\n",
      "{'SignName': 'Priority road', 'ClassId': '12'}\n",
      "{'SignName': 'Yield', 'ClassId': '13'}\n",
      "{'SignName': 'Stop', 'ClassId': '14'}\n",
      "{'SignName': 'No vehicles', 'ClassId': '15'}\n",
      "{'SignName': 'Vehicles over 3.5 metric tons prohibited', 'ClassId': '16'}\n",
      "{'SignName': 'No entry', 'ClassId': '17'}\n",
      "{'SignName': 'General caution', 'ClassId': '18'}\n",
      "{'SignName': 'Dangerous curve to the left', 'ClassId': '19'}\n",
      "{'SignName': 'Dangerous curve to the right', 'ClassId': '20'}\n",
      "{'SignName': 'Double curve', 'ClassId': '21'}\n",
      "{'SignName': 'Bumpy road', 'ClassId': '22'}\n",
      "{'SignName': 'Slippery road', 'ClassId': '23'}\n",
      "{'SignName': 'Road narrows on the right', 'ClassId': '24'}\n",
      "{'SignName': 'Road work', 'ClassId': '25'}\n",
      "{'SignName': 'Traffic signals', 'ClassId': '26'}\n",
      "{'SignName': 'Pedestrians', 'ClassId': '27'}\n",
      "{'SignName': 'Children crossing', 'ClassId': '28'}\n",
      "{'SignName': 'Bicycles crossing', 'ClassId': '29'}\n",
      "{'SignName': 'Beware of ice/snow', 'ClassId': '30'}\n",
      "{'SignName': 'Wild animals crossing', 'ClassId': '31'}\n",
      "{'SignName': 'End of all speed and passing limits', 'ClassId': '32'}\n",
      "{'SignName': 'Turn right ahead', 'ClassId': '33'}\n",
      "{'SignName': 'Turn left ahead', 'ClassId': '34'}\n",
      "{'SignName': 'Ahead only', 'ClassId': '35'}\n",
      "{'SignName': 'Go straight or right', 'ClassId': '36'}\n",
      "{'SignName': 'Go straight or left', 'ClassId': '37'}\n",
      "{'SignName': 'Keep right', 'ClassId': '38'}\n",
      "{'SignName': 'Keep left', 'ClassId': '39'}\n",
      "{'SignName': 'Roundabout mandatory', 'ClassId': '40'}\n",
      "{'SignName': 'End of no passing', 'ClassId': '41'}\n",
      "{'SignName': 'End of no passing by vehicles over 3.5 metric tons', 'ClassId': '42'}\n"
     ]
    },
    {
     "ename": "ValueError",
     "evalue": "num must be 1 <= num <= 8, not 9",
     "output_type": "error",
     "traceback": [
      "\u001b[0;31m---------------------------------------------------------------------------\u001b[0m",
      "\u001b[0;31mValueError\u001b[0m                                Traceback (most recent call last)",
      "\u001b[0;32m<ipython-input-5-543911e29a96>\u001b[0m in \u001b[0;36m<module>\u001b[0;34m()\u001b[0m\n\u001b[1;32m     39\u001b[0m \u001b[0mplt\u001b[0m\u001b[0;34m.\u001b[0m\u001b[0mfigure\u001b[0m\u001b[0;34m(\u001b[0m\u001b[0mfigsize\u001b[0m\u001b[0;34m=\u001b[0m\u001b[0;34m(\u001b[0m\u001b[0;36m10\u001b[0m\u001b[0;34m,\u001b[0m \u001b[0;36m6\u001b[0m\u001b[0;34m)\u001b[0m\u001b[0;34m)\u001b[0m\u001b[0;34m\u001b[0m\u001b[0m\n\u001b[1;32m     40\u001b[0m \u001b[0;32mfor\u001b[0m \u001b[0mi\u001b[0m \u001b[0;32min\u001b[0m \u001b[0mrange\u001b[0m\u001b[0;34m(\u001b[0m\u001b[0mlen\u001b[0m\u001b[0;34m(\u001b[0m\u001b[0mimg_list\u001b[0m\u001b[0;34m)\u001b[0m\u001b[0;34m-\u001b[0m\u001b[0;36m1\u001b[0m\u001b[0;34m)\u001b[0m\u001b[0;34m:\u001b[0m\u001b[0;34m\u001b[0m\u001b[0m\n\u001b[0;32m---> 41\u001b[0;31m     \u001b[0mplt\u001b[0m\u001b[0;34m.\u001b[0m\u001b[0msubplot\u001b[0m\u001b[0;34m(\u001b[0m\u001b[0;36m2\u001b[0m\u001b[0;34m,\u001b[0m \u001b[0;36m4\u001b[0m\u001b[0;34m,\u001b[0m \u001b[0mi\u001b[0m\u001b[0;34m+\u001b[0m\u001b[0;36m1\u001b[0m\u001b[0;34m)\u001b[0m\u001b[0;34m\u001b[0m\u001b[0m\n\u001b[0m\u001b[1;32m     42\u001b[0m     \u001b[0mplt\u001b[0m\u001b[0;34m.\u001b[0m\u001b[0mimshow\u001b[0m\u001b[0;34m(\u001b[0m\u001b[0mtest_img\u001b[0m\u001b[0;34m[\u001b[0m\u001b[0mi\u001b[0m\u001b[0;34m]\u001b[0m\u001b[0;34m)\u001b[0m\u001b[0;34m\u001b[0m\u001b[0m\n\u001b[1;32m     43\u001b[0m     \u001b[0mplt\u001b[0m\u001b[0;34m.\u001b[0m\u001b[0mtitle\u001b[0m\u001b[0;34m(\u001b[0m\u001b[0mi\u001b[0m\u001b[0;34m)\u001b[0m\u001b[0;34m\u001b[0m\u001b[0m\n",
      "\u001b[0;32m~/miniconda3/envs/carnd-term1/lib/python3.5/site-packages/matplotlib/pyplot.py\u001b[0m in \u001b[0;36msubplot\u001b[0;34m(*args, **kwargs)\u001b[0m\n\u001b[1;32m   1051\u001b[0m \u001b[0;34m\u001b[0m\u001b[0m\n\u001b[1;32m   1052\u001b[0m     \u001b[0mfig\u001b[0m \u001b[0;34m=\u001b[0m \u001b[0mgcf\u001b[0m\u001b[0;34m(\u001b[0m\u001b[0;34m)\u001b[0m\u001b[0;34m\u001b[0m\u001b[0m\n\u001b[0;32m-> 1053\u001b[0;31m     \u001b[0ma\u001b[0m \u001b[0;34m=\u001b[0m \u001b[0mfig\u001b[0m\u001b[0;34m.\u001b[0m\u001b[0madd_subplot\u001b[0m\u001b[0;34m(\u001b[0m\u001b[0;34m*\u001b[0m\u001b[0margs\u001b[0m\u001b[0;34m,\u001b[0m \u001b[0;34m**\u001b[0m\u001b[0mkwargs\u001b[0m\u001b[0;34m)\u001b[0m\u001b[0;34m\u001b[0m\u001b[0m\n\u001b[0m\u001b[1;32m   1054\u001b[0m     \u001b[0mbbox\u001b[0m \u001b[0;34m=\u001b[0m \u001b[0ma\u001b[0m\u001b[0;34m.\u001b[0m\u001b[0mbbox\u001b[0m\u001b[0;34m\u001b[0m\u001b[0m\n\u001b[1;32m   1055\u001b[0m     \u001b[0mbyebye\u001b[0m \u001b[0;34m=\u001b[0m \u001b[0;34m[\u001b[0m\u001b[0;34m]\u001b[0m\u001b[0;34m\u001b[0m\u001b[0m\n",
      "\u001b[0;32m~/miniconda3/envs/carnd-term1/lib/python3.5/site-packages/matplotlib/figure.py\u001b[0m in \u001b[0;36madd_subplot\u001b[0;34m(self, *args, **kwargs)\u001b[0m\n\u001b[1;32m   1068\u001b[0m                     \u001b[0mself\u001b[0m\u001b[0;34m.\u001b[0m\u001b[0m_axstack\u001b[0m\u001b[0;34m.\u001b[0m\u001b[0mremove\u001b[0m\u001b[0;34m(\u001b[0m\u001b[0max\u001b[0m\u001b[0;34m)\u001b[0m\u001b[0;34m\u001b[0m\u001b[0m\n\u001b[1;32m   1069\u001b[0m \u001b[0;34m\u001b[0m\u001b[0m\n\u001b[0;32m-> 1070\u001b[0;31m             \u001b[0ma\u001b[0m \u001b[0;34m=\u001b[0m \u001b[0msubplot_class_factory\u001b[0m\u001b[0;34m(\u001b[0m\u001b[0mprojection_class\u001b[0m\u001b[0;34m)\u001b[0m\u001b[0;34m(\u001b[0m\u001b[0mself\u001b[0m\u001b[0;34m,\u001b[0m \u001b[0;34m*\u001b[0m\u001b[0margs\u001b[0m\u001b[0;34m,\u001b[0m \u001b[0;34m**\u001b[0m\u001b[0mkwargs\u001b[0m\u001b[0;34m)\u001b[0m\u001b[0;34m\u001b[0m\u001b[0m\n\u001b[0m\u001b[1;32m   1071\u001b[0m \u001b[0;34m\u001b[0m\u001b[0m\n\u001b[1;32m   1072\u001b[0m         \u001b[0mself\u001b[0m\u001b[0;34m.\u001b[0m\u001b[0m_axstack\u001b[0m\u001b[0;34m.\u001b[0m\u001b[0madd\u001b[0m\u001b[0;34m(\u001b[0m\u001b[0mkey\u001b[0m\u001b[0;34m,\u001b[0m \u001b[0ma\u001b[0m\u001b[0;34m)\u001b[0m\u001b[0;34m\u001b[0m\u001b[0m\n",
      "\u001b[0;32m~/miniconda3/envs/carnd-term1/lib/python3.5/site-packages/matplotlib/axes/_subplots.py\u001b[0m in \u001b[0;36m__init__\u001b[0;34m(self, fig, *args, **kwargs)\u001b[0m\n\u001b[1;32m     62\u001b[0m                     raise ValueError(\n\u001b[1;32m     63\u001b[0m                         \"num must be 1 <= num <= {maxn}, not {num}\".format(\n\u001b[0;32m---> 64\u001b[0;31m                             maxn=rows*cols, num=num))\n\u001b[0m\u001b[1;32m     65\u001b[0m                 \u001b[0mself\u001b[0m\u001b[0;34m.\u001b[0m\u001b[0m_subplotspec\u001b[0m \u001b[0;34m=\u001b[0m \u001b[0mGridSpec\u001b[0m\u001b[0;34m(\u001b[0m\u001b[0mrows\u001b[0m\u001b[0;34m,\u001b[0m \u001b[0mcols\u001b[0m\u001b[0;34m)\u001b[0m\u001b[0;34m[\u001b[0m\u001b[0mint\u001b[0m\u001b[0;34m(\u001b[0m\u001b[0mnum\u001b[0m\u001b[0;34m)\u001b[0m \u001b[0;34m-\u001b[0m \u001b[0;36m1\u001b[0m\u001b[0;34m]\u001b[0m\u001b[0;34m\u001b[0m\u001b[0m\n\u001b[1;32m     66\u001b[0m                 \u001b[0;31m# num - 1 for converting from MATLAB to python indexing\u001b[0m\u001b[0;34m\u001b[0m\u001b[0;34m\u001b[0m\u001b[0m\n",
      "\u001b[0;31mValueError\u001b[0m: num must be 1 <= num <= 8, not 9"
     ]
    },
    {
     "data": {
      "image/png": "[encoded data removed]",
      "text/plain": [
       "<matplotlib.figure.Figure at 0x11608e438>"
      ]
     },
     "metadata": {},
     "output_type": "display_data"
    }
   ],
   "source": [
    "### Load the images and plot them here.\n",
    "### Feel free to use as many code cells as needed.\n",
    "### Load the images and plot them here.\n",
    "### Feel free to use as many code cells as needed.\n",
    " \n",
    "#Import traffic signs class names\n",
    "sign_name=[]\n",
    "with open('./signnames.csv', 'rt') as csvfile:\n",
    "    reader = csv.DictReader(csvfile, delimiter=',')\n",
    "    for row in reader:\n",
    "        sign_name.append((row['SignName']))        \n",
    "        print(row)\n",
    "\n",
    "    \n",
    "img_list = os.listdir(\"../Signs/\")\n",
    "test_img = []\n",
    "for i, image in enumerate(img_list):\n",
    "    test_img.append(mpimg.imread(\"../Signs/\"+image))\n",
    "    #print(i)\n",
    "    #plt.imshow(test_img[i])\n",
    "    #plt.show()\n",
    "    \n",
    "\"\"\"      \n",
    "#Import test images  \n",
    "test_img_paths = [img_path for img_path in glob.glob(\"./new_images/*\")]\n",
    "test_img=np.uint8(np.zeros((12,32,32,3)))\n",
    "for i, imp in enumerate(test_img_paths):\n",
    "    img=cv2.imread(imp, cv2\n",
    "    \n",
    "    .IMREAD_COLOR)\n",
    "    b,g,r = cv2.split(img)\n",
    "    img = cv2.merge([r,g,b])\n",
    "  test_img[i]=img\n",
    "\"\"\"\n",
    "\n",
    "\n",
    "#Visualize new raw images\n",
    "\n",
    "plt.figure(figsize=(10, 6))\n",
    "for i in range(len(img_list)-1):\n",
    "    plt.subplot(2, 4, i+1)\n",
    "    plt.imshow(test_img[i]) \n",
    "    plt.title(i)\n",
    "    plt.axis('off')\n",
    "plt.show()\n",
    "        \n"
   ]
  },
  {
   "cell_type": "markdown",
   "metadata": {},
   "source": [
    "### Predict the Sign Type for Each Image"
   ]
  },
  {
   "cell_type": "code",
   "execution_count": 6,
   "metadata": {},
   "outputs": [
    {
     "name": "stdout",
     "output_type": "stream",
     "text": [
      "Test_shape:  (10,)\n"
     ]
    },
    {
     "ename": "NameError",
     "evalue": "name 'saver' is not defined",
     "output_type": "error",
     "traceback": [
      "\u001b[0;31m---------------------------------------------------------------------------\u001b[0m",
      "\u001b[0;31mNameError\u001b[0m                                 Traceback (most recent call last)",
      "\u001b[0;32m<ipython-input-6-dc3e12daa2da>\u001b[0m in \u001b[0;36m<module>\u001b[0;34m()\u001b[0m\n\u001b[1;32m     90\u001b[0m \u001b[0;34m\u001b[0m\u001b[0m\n\u001b[1;32m     91\u001b[0m \u001b[0;32mwith\u001b[0m \u001b[0mtf\u001b[0m\u001b[0;34m.\u001b[0m\u001b[0mSession\u001b[0m\u001b[0;34m(\u001b[0m\u001b[0;34m)\u001b[0m \u001b[0;32mas\u001b[0m \u001b[0msess\u001b[0m\u001b[0;34m:\u001b[0m\u001b[0;34m\u001b[0m\u001b[0m\n\u001b[0;32m---> 92\u001b[0;31m     \u001b[0msaver\u001b[0m\u001b[0;34m.\u001b[0m\u001b[0mrestore\u001b[0m\u001b[0;34m(\u001b[0m\u001b[0msess\u001b[0m\u001b[0;34m,\u001b[0m \u001b[0;34m'./lenet_RD_1632'\u001b[0m\u001b[0;34m)\u001b[0m\u001b[0;34m\u001b[0m\u001b[0m\n\u001b[0m\u001b[1;32m     93\u001b[0m     \u001b[0msigns_classes\u001b[0m\u001b[0;34m=\u001b[0m\u001b[0mtest_net\u001b[0m\u001b[0;34m(\u001b[0m\u001b[0mX_self_test\u001b[0m\u001b[0;34m,\u001b[0m \u001b[0msess\u001b[0m\u001b[0;34m)\u001b[0m\u001b[0;34m\u001b[0m\u001b[0m\n\u001b[1;32m     94\u001b[0m \u001b[0;34m\u001b[0m\u001b[0m\n",
      "\u001b[0;31mNameError\u001b[0m: name 'saver' is not defined"
     ]
    }
   ],
   "source": [
    "### Run the predictions here and use the model to output the prediction for each image.\n",
    "### Make sure to pre-process the images with the same pre-processing pipeline used earlier.\n",
    "### Feel free to use as many code cells as needed.\n",
    "\n",
    "\n",
    "\n",
    "\"\"\"\n",
    "def testNet(X_data, sess):\n",
    "    pred_sign = sess.run(tf.argmax(logits, 1), feed_dict={x: X_data})\n",
    "    return pred_sign\n",
    "  \n",
    "X_self_test = np.asarray(test_img).astype(np.float32)\n",
    "a = list(map(rgb_to_gray, X_self_test))\n",
    "X_self_test = np.asarray(a)\n",
    "X_self_test = X_self_test[..., np.newaxis]\n",
    "\n",
    "\n",
    "print(\"Shape_feed in: \", X_self_test.shape)\n",
    "    \n",
    "with tf.Session() as sess:\n",
    "    saver.restore(sess, './lenet')\n",
    "    sign_predicted=testNet(X_self_test, sess)\n",
    "\n",
    "for i in range(8):\n",
    "    print(i)\n",
    "    print(\"---: \", sign_predicted[i])\n",
    "\n",
    "    \n",
    "\n",
    "# X_test_data = test_img.astype(np.float32)\n",
    "#X_self_test = np.asarray(test_img).astype(np.float32)\n",
    "\n",
    "#X_test_data = X_test_data.reshape((-1, 26, 26, 3)).astype(np.float32)\n",
    "      \n",
    "    \n",
    "    \n",
    "    \n",
    "correct_prediction = tf.equal(tf.argmax(sign_class_predicted, 1), tf.argmax(one_hot_y, 1))\n",
    "pred = tf.argmax(sign_class_predicted, 1)\n",
    "\n",
    "\n",
    "\n",
    "\n",
    "\n",
    "    \n",
    "cross_entropy = tf.nn.softmax_cross_entropy_with_logits(labels=one_hot_y, logits=sign_class_predicted)\n",
    "print(\"CE for 0: \", cross_entropy[1]);\n",
    "print(\"CE: \", cross_entropy.shape);    \n",
    "\n",
    "\n",
    "    \n",
    "print(sign_class_predicted.shape);    \n",
    "\n",
    "print(\"0-Element: \", sign_class_predicted[0]);    \n",
    "\n",
    "\n",
    "\"\"\"\n",
    "\"\"\"\n",
    "  print(sess.run(logits)\n",
    "\n",
    "plt.figure(figsize=(10, 6))\n",
    "for i in range(len(img_list)-1):\n",
    "    plt.subplot(2, 4, i+1)\n",
    "    plt.imshow(test_img[i]) \n",
    "    plt.title(i)\n",
    "    plt.axis('off')\n",
    "plt.show()\n",
    "\n",
    "\"\"\"\n",
    "\n",
    "def test_net(X_data, sess):\n",
    "    pred_sign = sess.run(tf.argmax(logits, 1), feed_dict={x: X_data})\n",
    "    return pred_sign\n",
    "\n",
    "#X_self_test = np.asarray(test_img).astype(np.float32)\n",
    "\n",
    "#print(\"Test_shape: \", X_test.shape)\n",
    "\n",
    "#X_self_test = np.copy(X_test[:10])\n",
    "X_self_test = np.copy(test_img)\n",
    "print(\"Test_shape: \", X_self_test.shape)\n",
    "\n",
    "\n",
    "\n",
    "#a = list(map(rgb_to_gray, X_self_test))\n",
    "#X_self_test = np.asarray(a)\n",
    "#X_test_data = X_self_test[..., np.newaxis]\n",
    "\n",
    "#X_test_data = X_test_data.reshape((-1, 26, 26, 3)).astype(np.float32)\n",
    "    \n",
    "with tf.Session() as sess:\n",
    "    saver.restore(sess, './lenet_RD_1632')\n",
    "    signs_classes=test_net(X_self_test, sess)\n",
    "\n",
    "    \n",
    "n_images = len(X_self_test)\n",
    "columns = 5\n",
    "rows = n_images / columns\n",
    "plt.figure(figsize=(4*columns, 4*rows))\n",
    "for i in range(len(X_self_test)-1):\n",
    "    plt.subplot(rows, 5, i+1)\n",
    "    #plt.imshow(test_img[i]) \n",
    "    plt.imshow(X_self_test[i].squeeze()) \n",
    "    print(signs_classes[i])\n",
    "    plt.title(sign_name[signs_classes[i]])\n",
    "    plt.axis('off')\n",
    "plt.show()\n",
    "\n"
   ]
  },
  {
   "cell_type": "markdown",
   "metadata": {},
   "source": [
    "### Analyze Performance"
   ]
  },
  {
   "cell_type": "code",
   "execution_count": null,
   "metadata": {
    "collapsed": true
   },
   "outputs": [],
   "source": [
    "### Calculate the accuracy for these 5 new images. \n",
    "### For example, if the model predicted 1 out of 5 signs correctly, it's 20% accurate on these new images."
   ]
  },
  {
   "cell_type": "markdown",
   "metadata": {},
   "source": [
    "### Output Top 5 Softmax Probabilities For Each Image Found on the Web"
   ]
  },
  {
   "cell_type": "markdown",
   "metadata": {},
   "source": [
    "For each of the new images, print out the model's softmax probabilities to show the **certainty** of the model's predictions (limit the output to the top 5 probabilities for each image). [`tf.nn.top_k`](https://www.tensorflow.org/versions/r0.12/api_docs/python/nn.html#top_k) could prove helpful here. \n",
    "\n",
    "The example below demonstrates how tf.nn.top_k can be used to find the top k predictions for each image.\n",
    "\n",
    "`tf.nn.top_k` will return the values and indices (class ids) of the top k predictions. So if k=3, for each sign, it'll return the 3 largest probabilities (out of a possible 43) and the correspoding class ids.\n",
    "\n",
    "Take this numpy array as an example. The values in the array represent predictions. The array contains softmax probabilities for five candidate images with six possible classes. `tf.nn.top_k` is used to choose the three classes with the highest probability:\n",
    "\n",
    "```\n",
    "# (5, 6) array\n",
    "a = np.array([[ 0.24879643,  0.07032244,  0.12641572,  0.34763842,  0.07893497,\n",
    "         0.12789202],\n",
    "       [ 0.28086119,  0.27569815,  0.08594638,  0.0178669 ,  0.18063401,\n",
    "         0.15899337],\n",
    "       [ 0.26076848,  0.23664738,  0.08020603,  0.07001922,  0.1134371 ,\n",
    "         0.23892179],\n",
    "       [ 0.11943333,  0.29198961,  0.02605103,  0.26234032,  0.1351348 ,\n",
    "         0.16505091],\n",
    "       [ 0.09561176,  0.34396535,  0.0643941 ,  0.16240774,  0.24206137,\n",
    "         0.09155967]])\n",
    "```\n",
    "\n",
    "Running it through `sess.run(tf.nn.top_k(tf.constant(a), k=3))` produces:\n",
    "\n",
    "```\n",
    "TopKV2(values=array([[ 0.34763842,  0.24879643,  0.12789202],\n",
    "       [ 0.28086119,  0.27569815,  0.18063401],\n",
    "       [ 0.26076848,  0.23892179,  0.23664738],\n",
    "       [ 0.29198961,  0.26234032,  0.16505091],\n",
    "       [ 0.34396535,  0.24206137,  0.16240774]]), indices=array([[3, 0, 5],\n",
    "       [0, 1, 4],\n",
    "       [0, 5, 1],\n",
    "       [1, 3, 5],\n",
    "       [1, 4, 3]], dtype=int32))\n",
    "```\n",
    "\n",
    "Looking just at the first row we get `[ 0.34763842,  0.24879643,  0.12789202]`, you can confirm these are the 3 largest probabilities in `a`. You'll also notice `[3, 0, 5]` are the corresponding indices."
   ]
  },
  {
   "cell_type": "code",
   "execution_count": null,
   "metadata": {
    "collapsed": true
   },
   "outputs": [],
   "source": [
    "### Print out the top five softmax probabilities for the predictions on the German traffic sign images found on the web. \n",
    "### Feel free to use as many code cells as needed."
   ]
  },
  {
   "cell_type": "markdown",
   "metadata": {},
   "source": [
    "### Project Writeup\n",
    "\n",
    "Once you have completed the code implementation, document your results in a project writeup using this [template](https://github.com/udacity/CarND-Traffic-Sign-Classifier-Project/blob/master/writeup_template.md) as a guide. The writeup can be in a markdown or pdf file. "
   ]
  },
  {
   "cell_type": "markdown",
   "metadata": {},
   "source": [
    "> **Note**: Once you have completed all of the code implementations and successfully answered each question above, you may finalize your work by exporting the iPython Notebook as an HTML document. You can do this by using the menu above and navigating to  \\n\",\n",
    "    \"**File -> Download as -> HTML (.html)**. Include the finished document along with this notebook as your submission."
   ]
  },
  {
   "cell_type": "markdown",
   "metadata": {},
   "source": [
    "---\n",
    "\n",
    "## Step 4 (Optional): Visualize the Neural Network's State with Test Images\n",
    "\n",
    " This Section is not required to complete but acts as an additional excersise for understaning the output of a neural network's weights. While neural networks can be a great learning device they are often referred to as a black box. We can understand what the weights of a neural network look like better by plotting their feature maps. After successfully training your neural network you can see what it's feature maps look like by plotting the output of the network's weight layers in response to a test stimuli image. From these plotted feature maps, it's possible to see what characteristics of an image the network finds interesting. For a sign, maybe the inner network feature maps react with high activation to the sign's boundary outline or to the contrast in the sign's painted symbol.\n",
    "\n",
    " Provided for you below is the function code that allows you to get the visualization output of any tensorflow weight layer you want. The inputs to the function should be a stimuli image, one used during training or a new one you provided, and then the tensorflow variable name that represents the layer's state during the training process, for instance if you wanted to see what the [LeNet lab's](https://classroom.udacity.com/nanodegrees/nd013/parts/fbf77062-5703-404e-b60c-95b78b2f3f9e/modules/6df7ae49-c61c-4bb2-a23e-6527e69209ec/lessons/601ae704-1035-4287-8b11-e2c2716217ad/concepts/d4aca031-508f-4e0b-b493-e7b706120f81) feature maps looked like for it's second convolutional layer you could enter conv2 as the tf_activation variable.\n",
    "\n",
    "For an example of what feature map outputs look like, check out NVIDIA's results in their paper [End-to-End Deep Learning for Self-Driving Cars](https://devblogs.nvidia.com/parallelforall/deep-learning-self-driving-cars/) in the section Visualization of internal CNN State. NVIDIA was able to show that their network's inner weights had high activations to road boundary lines by comparing feature maps from an image with a clear path to one without. Try experimenting with a similar test to show that your trained network's weights are looking for interesting features, whether it's looking at differences in feature maps from images with or without a sign, or even what feature maps look like in a trained network vs a completely untrained one on the same sign image.\n",
    "\n",
    "<figure>\n",
    " <img src=\"visualize_cnn.png\" width=\"380\" alt=\"Combined Image\" />\n",
    " <figcaption>\n",
    " <p></p> \n",
    " <p style=\"text-align: center;\"> Your output should look something like this (above)</p> \n",
    " </figcaption>\n",
    "</figure>\n",
    " <p></p> \n"
   ]
  },
  {
   "cell_type": "code",
   "execution_count": null,
   "metadata": {
    "collapsed": true
   },
   "outputs": [],
   "source": [
    "### Visualize your network's feature maps here.\n",
    "### Feel free to use as many code cells as needed.\n",
    "\n",
    "# image_input: the test image being fed into the network to produce the feature maps\n",
    "# tf_activation: should be a tf variable name used during your training procedure that represents the calculated state of a specific weight layer\n",
    "# activation_min/max: can be used to view the activation contrast in more detail, by default matplot sets min and max to the actual min and max values of the output\n",
    "# plt_num: used to plot out multiple different weight feature map sets on the same block, just extend the plt number for each new feature map entry\n",
    "\n",
    "def outputFeatureMap(image_input, tf_activation, activation_min=-1, activation_max=-1 ,plt_num=1):\n",
    "    # Here make sure to preprocess your image_input in a way your network expects\n",
    "    # with size, normalization, ect if needed\n",
    "    # image_input =\n",
    "    # Note: x should be the same name as your network's tensorflow data placeholder variable\n",
    "    # If you get an error tf_activation is not defined it may be having trouble accessing the variable from inside a function\n",
    "    activation = tf_activation.eval(session=sess,feed_dict={x : image_input})\n",
    "    featuremaps = activation.shape[3]\n",
    "    plt.figure(plt_num, figsize=(15,15))\n",
    "    for featuremap in range(featuremaps):\n",
    "        plt.subplot(6,8, featuremap+1) # sets the number of feature maps to show on each row and column\n",
    "        plt.title('FeatureMap ' + str(featuremap)) # displays the feature map number\n",
    "        if activation_min != -1 & activation_max != -1:\n",
    "            plt.imshow(activation[0,:,:, featuremap], interpolation=\"nearest\", vmin =activation_min, vmax=activation_max, cmap=\"gray\")\n",
    "        elif activation_max != -1:\n",
    "            plt.imshow(activation[0,:,:, featuremap], interpolation=\"nearest\", vmax=activation_max, cmap=\"gray\")\n",
    "        elif activation_min !=-1:\n",
    "            plt.imshow(activation[0,:,:, featuremap], interpolation=\"nearest\", vmin=activation_min, cmap=\"gray\")\n",
    "        else:\n",
    "            plt.imshow(activation[0,:,:, featuremap], interpolation=\"nearest\", cmap=\"gray\")"
   ]
  }
 ],
 "metadata": {
  "anaconda-cloud": {},
  "kernelspec": {
   "display_name": "Python 3",
   "language": "python",
   "name": "python3"
  },
  "language_info": {
   "codemirror_mode": {
    "name": "ipython",
    "version": 3
   },
   "file_extension": ".py",
   "mimetype": "text/x-python",
   "name": "python",
   "nbconvert_exporter": "python",
   "pygments_lexer": "ipython3",
   "version": "3.5.2"
  },
  "widgets": {
   "state": {},
   "version": "1.1.2"
  }
 },
 "nbformat": 4,
 "nbformat_minor": 1
}
